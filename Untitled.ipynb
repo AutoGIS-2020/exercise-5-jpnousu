{
 "cells": [
  {
   "cell_type": "markdown",
   "metadata": {},
   "source": [
    "## AutoGIS exercise 5"
   ]
  },
  {
   "cell_type": "code",
   "execution_count": null,
   "metadata": {},
   "outputs": [],
   "source": [
    "# importing necessary modules\n",
    "import requests\n",
    "import geojson\n",
    "from pyproj import CRS\n",
    "import geopandas as gpd\n",
    "import matplotlib.pyplot as plt\n",
    "import contextily as ctx"
   ]
  },
  {
   "cell_type": "code",
   "execution_count": null,
   "metadata": {},
   "outputs": [],
   "source": [
    "# Read population grid data for 2018 into a variable `pop`. \n",
    "# Specify the url for web feature service\n",
    "url = 'https://kartta.hsy.fi/geoserver/wfs'\n",
    "\n",
    "# Specify parameters (read data in json format). \n",
    "# Available feature types in this particular data source: http://geo.stat.fi/geoserver/vaestoruutu/wfs?service=wfs&version=2.0.0&request=describeFeatureType\n",
    "params = dict(service='WFS', \n",
    "              version='2.0.0', \n",
    "              request='GetFeature', \n",
    "              typeName='asuminen_ja_maankaytto:Vaestotietoruudukko_2018', \n",
    "              outputFormat='json')\n",
    "\n",
    "# Fetch data from WFS using requests\n",
    "r = requests.get(url, params=params)\n",
    "\n",
    "# Create GeoDataFrame from geojson\n",
    "pop = gpd.GeoDataFrame.from_features(geojson.loads(r.content))"
   ]
  },
  {
   "cell_type": "code",
   "execution_count": null,
   "metadata": {},
   "outputs": [],
   "source": [
    "# Defining the crs\n",
    "pop.crs = CRS.from_epsg(3879)"
   ]
  },
  {
   "cell_type": "code",
   "execution_count": null,
   "metadata": {},
   "outputs": [],
   "source": [
    "# Importing more data\n",
    "# Filepaths\n",
    "roads_fp = \"data/roads.shp\"\n",
    "metro_fp = \"data/metro.shp\"\n",
    "\n",
    "# Read files\n",
    "roads = gpd.read_file(roads_fp)\n",
    "metro = gpd.read_file(metro_fp)"
   ]
  },
  {
   "cell_type": "code",
   "execution_count": null,
   "metadata": {},
   "outputs": [],
   "source": [
    "# Reprojecting geometries for later use with basemap\n",
    "roads = roads.to_crs(crs=3857)\n",
    "metro = metro.to_crs(crs=3857)\n",
    "pop = pop.to_crs(crs=3857)"
   ]
  },
  {
   "cell_type": "code",
   "execution_count": null,
   "metadata": {},
   "outputs": [],
   "source": [
    "# Check CRS names\n",
    "print(\"Roads crs:\", CRS(roads.crs).name)\n",
    "print(\"Metro crs:\", CRS(metro.crs).name)\n",
    "print(\"Pop crs: \",CRS(pop.crs).name)"
   ]
  },
  {
   "cell_type": "code",
   "execution_count": null,
   "metadata": {},
   "outputs": [],
   "source": [
    "# Defining median age category for each population grid\n",
    "pop['median_ika'] = ''\n",
    "for i in range(len(pop)):\n",
    "    ika = []\n",
    "    for k in range(4,13,1):\n",
    "        ika += pop.iloc[i, k] * [pop.columns[k]]\n",
    "    pop.loc[i, 'median_ika'] = ika[int(len(ika)/2)]"
   ]
  },
  {
   "cell_type": "code",
   "execution_count": null,
   "metadata": {},
   "outputs": [],
   "source": [
    "# Create one subplot. Control figure size in here.\n",
    "fig, ax = plt.subplots(figsize=(12,8))\n",
    "\n",
    "# Visualize the travel times into 9 classes using \"Quantiles\" classification scheme\n",
    "pop.plot(ax=ax, column='median_ika', cmap='PiYG', linewidth=0.03, legend = True, alpha=0.7)\n",
    "\n",
    "# Add roads on top of the grid\n",
    "# (use ax parameter to define the map on top of which the second items are plotted)\n",
    "roads.plot(ax=ax, color=\"yellow\", linewidth=1.5)\n",
    "\n",
    "# Add metro on top of the previous map\n",
    "metro.plot(ax=ax, color=\"green\", linewidth=2.5)\n",
    "\n",
    "# Remove the empty white-space around the axes\n",
    "plt.tight_layout()\n",
    "\n",
    "ctx.add_basemap(ax, source=ctx.providers.OpenStreetMap.Mapnik)\n",
    "\n",
    "# Save the figure as png file with resolution of 300 dpi\n",
    "#outfp = \"static_map.png\"\n",
    "#plt.savefig(outfp, dpi=300)"
   ]
  },
  {
   "cell_type": "code",
   "execution_count": null,
   "metadata": {},
   "outputs": [],
   "source": []
  }
 ],
 "metadata": {
  "kernelspec": {
   "display_name": "Python 3",
   "language": "python",
   "name": "python3"
  },
  "language_info": {
   "codemirror_mode": {
    "name": "ipython",
    "version": 3
   },
   "file_extension": ".py",
   "mimetype": "text/x-python",
   "name": "python",
   "nbconvert_exporter": "python",
   "pygments_lexer": "ipython3",
   "version": "3.8.6"
  }
 },
 "nbformat": 4,
 "nbformat_minor": 4
}
